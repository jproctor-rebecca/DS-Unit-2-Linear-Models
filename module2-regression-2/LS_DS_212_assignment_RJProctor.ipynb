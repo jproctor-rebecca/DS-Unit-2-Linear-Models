{
  "nbformat": 4,
  "nbformat_minor": 0,
  "metadata": {
    "kernelspec": {
      "display_name": "Python 3",
      "language": "python",
      "name": "python3"
    },
    "language_info": {
      "codemirror_mode": {
        "name": "ipython",
        "version": 3
      },
      "file_extension": ".py",
      "mimetype": "text/x-python",
      "name": "python",
      "nbconvert_exporter": "python",
      "pygments_lexer": "ipython3",
      "version": "3.7.3"
    },
    "colab": {
      "name": "LS_DS_212_assignment_RJProctor.ipynb",
      "provenance": [],
      "collapsed_sections": [],
      "include_colab_link": true
    }
  },
  "cells": [
    {
      "cell_type": "markdown",
      "metadata": {
        "id": "view-in-github",
        "colab_type": "text"
      },
      "source": [
        "<a href=\"https://colab.research.google.com/github/jproctor-rebecca/DS-Unit-2-Linear-Models/blob/master/module2-regression-2/LS_DS_212_assignment_RJProctor.ipynb\" target=\"_parent\"><img src=\"https://colab.research.google.com/assets/colab-badge.svg\" alt=\"Open In Colab\"/></a>"
      ]
    },
    {
      "cell_type": "markdown",
      "metadata": {
        "id": "W2DlcH3sXShW",
        "colab_type": "text"
      },
      "source": [
        "Lambda School Data Science\n",
        "\n",
        "*Unit 2, Sprint 1, Module 2*\n",
        "\n",
        "---"
      ]
    },
    {
      "cell_type": "markdown",
      "metadata": {
        "colab_type": "text",
        "id": "7IXUfiQ2UKj6"
      },
      "source": [
        "# Regression 2\n",
        "\n",
        "## Assignment\n",
        "\n",
        "You'll continue to **predict how much it costs to rent an apartment in NYC,** using the dataset from renthop.com.\n",
        "\n",
        "- [ ] Do train/validation split. Use data from April & May 2016 to train. Use data from June 2016 to test.\n",
        "- [ ] Engineer at least two new features. (See below for explanation & ideas.)\n",
        "- [ ] Fit a linear regression model with at least two features.\n",
        "- [ ] Get the model's coefficients and intercept.\n",
        "- [ ] Get regression metrics RMSE, MAE, and $R^2$, for both the train and test data.\n",
        "- [ ] What's the best test MAE you can get? Share your score and features used with your cohort on Slack!\n",
        "- [ ] As always, commit your notebook to your fork of the GitHub repo.\n",
        "\n",
        "\n",
        "#### [Feature Engineering](https://en.wikipedia.org/wiki/Feature_engineering)\n",
        "\n",
        "> \"Some machine learning projects succeed and some fail. What makes the difference? Easily the most important factor is the features used.\" — Pedro Domingos, [\"A Few Useful Things to Know about Machine Learning\"](https://homes.cs.washington.edu/~pedrod/papers/cacm12.pdf)\n",
        "\n",
        "> \"Coming up with features is difficult, time-consuming, requires expert knowledge. 'Applied machine learning' is basically feature engineering.\" — Andrew Ng, [Machine Learning and AI via Brain simulations](https://forum.stanford.edu/events/2011/2011slides/plenary/2011plenaryNg.pdf) \n",
        "\n",
        "> Feature engineering is the process of using domain knowledge of the data to create features that make machine learning algorithms work. \n",
        "\n",
        "#### Feature Ideas\n",
        "- Does the apartment have a description?\n",
        "- How long is the description?\n",
        "- How many total perks does each apartment have?\n",
        "- Are cats _or_ dogs allowed?\n",
        "- Are cats _and_ dogs allowed?\n",
        "- Total number of rooms (beds + baths)\n",
        "- Ratio of beds to baths\n",
        "- What's the neighborhood, based on address or latitude & longitude?\n",
        "\n",
        "## Stretch Goals\n",
        "- [ ] If you want more math, skim [_An Introduction to Statistical Learning_](http://faculty.marshall.usc.edu/gareth-james/ISL/ISLR%20Seventh%20Printing.pdf),  Chapter 3.1, Simple Linear Regression, & Chapter 3.2, Multiple Linear Regression\n",
        "- [ ] If you want more introduction, watch [Brandon Foltz, Statistics 101: Simple Linear Regression](https://www.youtube.com/watch?v=ZkjP5RJLQF4)\n",
        "(20 minutes, over 1 million views)\n",
        "- [ ] Add your own stretch goal(s) !"
      ]
    },
    {
      "cell_type": "code",
      "metadata": {
        "colab_type": "code",
        "id": "o9eSnDYhUGD7",
        "colab": {}
      },
      "source": [
        "%%capture\n",
        "import sys\n",
        "\n",
        "# If you're on Colab:\n",
        "if 'google.colab' in sys.modules:\n",
        "    DATA_PATH = 'https://raw.githubusercontent.com/LambdaSchool/DS-Unit-2-Applied-Modeling/master/data/'\n",
        "    !pip install category_encoders==2.*\n",
        "\n",
        "# If you're working locally:\n",
        "else:\n",
        "    DATA_PATH = '../data/'\n",
        "    \n",
        "# Ignore this Numpy warning when using Plotly Express:\n",
        "# FutureWarning: Method .ptp is deprecated and will be removed in a future version. Use numpy.ptp instead.\n",
        "import warnings\n",
        "warnings.filterwarnings(action='ignore', category=FutureWarning, module='numpy')"
      ],
      "execution_count": 1,
      "outputs": []
    },
    {
      "cell_type": "code",
      "metadata": {
        "colab_type": "code",
        "id": "cvrw-T3bZOuW",
        "colab": {}
      },
      "source": [
        "import numpy as np\n",
        "import pandas as pd\n",
        "\n",
        "# Read New York City apartment rental listing data\n",
        "df = pd.read_csv(DATA_PATH+'apartments/renthop-nyc.csv',\n",
        "                 parse_dates=['created'],\n",
        "                 index_col='created')\n",
        "assert df.shape == (49352, 33)\n",
        "\n",
        "# Remove the most extreme 1% prices,\n",
        "# the most extreme .1% latitudes, &\n",
        "# the most extreme .1% longitudes\n",
        "df = df[(df['price'] >= np.percentile(df['price'], 0.5)) & \n",
        "        (df['price'] <= np.percentile(df['price'], 99.5)) & \n",
        "        (df['latitude'] >= np.percentile(df['latitude'], 0.05)) & \n",
        "        (df['latitude'] < np.percentile(df['latitude'], 99.95)) &\n",
        "        (df['longitude'] >= np.percentile(df['longitude'], 0.05)) & \n",
        "        (df['longitude'] <= np.percentile(df['longitude'], 99.95))]\n"
      ],
      "execution_count": 2,
      "outputs": []
    },
    {
      "cell_type": "code",
      "metadata": {
        "id": "XYIoj3edQ2iy",
        "colab_type": "code",
        "colab": {}
      },
      "source": [
        "# assign data to clearly labeled DataFrame\n",
        "apartments = df\n",
        "\n",
        "# drop NaNs\n",
        "apartments.dropna(inplace=True)\n"
      ],
      "execution_count": 3,
      "outputs": []
    },
    {
      "cell_type": "code",
      "metadata": {
        "id": "M6Bc_eDynp-_",
        "colab_type": "code",
        "colab": {}
      },
      "source": [
        "# convert to date time format\n",
        "#apartments['created'] = pd.to_datetime(apartments['created'], \n",
        " #                                      infer_datetime_format=True)\n"
      ],
      "execution_count": 4,
      "outputs": []
    },
    {
      "cell_type": "markdown",
      "metadata": {
        "id": "zaXTXk2LPKV5",
        "colab_type": "text"
      },
      "source": [
        "#### EDA"
      ]
    },
    {
      "cell_type": "code",
      "metadata": {
        "id": "yXVDq86JNu-u",
        "colab_type": "code",
        "colab": {
          "base_uri": "https://localhost:8080/",
          "height": 711
        },
        "outputId": "a07cc897-4312-4b16-fd76-5dc471808259"
      },
      "source": [
        "apartments.info()\n"
      ],
      "execution_count": 5,
      "outputs": [
        {
          "output_type": "stream",
          "text": [
            "<class 'pandas.core.frame.DataFrame'>\n",
            "DatetimeIndex: 47260 entries, 2016-06-24 07:54:24 to 2016-04-12 02:48:07\n",
            "Data columns (total 33 columns):\n",
            " #   Column                Non-Null Count  Dtype  \n",
            "---  ------                --------------  -----  \n",
            " 0   bathrooms             47260 non-null  float64\n",
            " 1   bedrooms              47260 non-null  int64  \n",
            " 2   description           47260 non-null  object \n",
            " 3   display_address       47260 non-null  object \n",
            " 4   latitude              47260 non-null  float64\n",
            " 5   longitude             47260 non-null  float64\n",
            " 6   price                 47260 non-null  int64  \n",
            " 7   street_address        47260 non-null  object \n",
            " 8   interest_level        47260 non-null  object \n",
            " 9   elevator              47260 non-null  int64  \n",
            " 10  cats_allowed          47260 non-null  int64  \n",
            " 11  hardwood_floors       47260 non-null  int64  \n",
            " 12  dogs_allowed          47260 non-null  int64  \n",
            " 13  doorman               47260 non-null  int64  \n",
            " 14  dishwasher            47260 non-null  int64  \n",
            " 15  no_fee                47260 non-null  int64  \n",
            " 16  laundry_in_building   47260 non-null  int64  \n",
            " 17  fitness_center        47260 non-null  int64  \n",
            " 18  pre-war               47260 non-null  int64  \n",
            " 19  laundry_in_unit       47260 non-null  int64  \n",
            " 20  roof_deck             47260 non-null  int64  \n",
            " 21  outdoor_space         47260 non-null  int64  \n",
            " 22  dining_room           47260 non-null  int64  \n",
            " 23  high_speed_internet   47260 non-null  int64  \n",
            " 24  balcony               47260 non-null  int64  \n",
            " 25  swimming_pool         47260 non-null  int64  \n",
            " 26  new_construction      47260 non-null  int64  \n",
            " 27  terrace               47260 non-null  int64  \n",
            " 28  exclusive             47260 non-null  int64  \n",
            " 29  loft                  47260 non-null  int64  \n",
            " 30  garden_patio          47260 non-null  int64  \n",
            " 31  wheelchair_access     47260 non-null  int64  \n",
            " 32  common_outdoor_space  47260 non-null  int64  \n",
            "dtypes: float64(3), int64(26), object(4)\n",
            "memory usage: 12.3+ MB\n"
          ],
          "name": "stdout"
        }
      ]
    },
    {
      "cell_type": "code",
      "metadata": {
        "id": "4knM4TQAN3WT",
        "colab_type": "code",
        "colab": {
          "base_uri": "https://localhost:8080/",
          "height": 547
        },
        "outputId": "f398adfd-001d-4848-d18e-dd5f08c863f1"
      },
      "source": [
        "apartments.head()\n"
      ],
      "execution_count": 6,
      "outputs": [
        {
          "output_type": "execute_result",
          "data": {
            "text/html": [
              "<div>\n",
              "<style scoped>\n",
              "    .dataframe tbody tr th:only-of-type {\n",
              "        vertical-align: middle;\n",
              "    }\n",
              "\n",
              "    .dataframe tbody tr th {\n",
              "        vertical-align: top;\n",
              "    }\n",
              "\n",
              "    .dataframe thead th {\n",
              "        text-align: right;\n",
              "    }\n",
              "</style>\n",
              "<table border=\"1\" class=\"dataframe\">\n",
              "  <thead>\n",
              "    <tr style=\"text-align: right;\">\n",
              "      <th></th>\n",
              "      <th>bathrooms</th>\n",
              "      <th>bedrooms</th>\n",
              "      <th>description</th>\n",
              "      <th>display_address</th>\n",
              "      <th>latitude</th>\n",
              "      <th>longitude</th>\n",
              "      <th>price</th>\n",
              "      <th>street_address</th>\n",
              "      <th>interest_level</th>\n",
              "      <th>elevator</th>\n",
              "      <th>cats_allowed</th>\n",
              "      <th>hardwood_floors</th>\n",
              "      <th>dogs_allowed</th>\n",
              "      <th>doorman</th>\n",
              "      <th>dishwasher</th>\n",
              "      <th>no_fee</th>\n",
              "      <th>laundry_in_building</th>\n",
              "      <th>fitness_center</th>\n",
              "      <th>pre-war</th>\n",
              "      <th>laundry_in_unit</th>\n",
              "      <th>roof_deck</th>\n",
              "      <th>outdoor_space</th>\n",
              "      <th>dining_room</th>\n",
              "      <th>high_speed_internet</th>\n",
              "      <th>balcony</th>\n",
              "      <th>swimming_pool</th>\n",
              "      <th>new_construction</th>\n",
              "      <th>terrace</th>\n",
              "      <th>exclusive</th>\n",
              "      <th>loft</th>\n",
              "      <th>garden_patio</th>\n",
              "      <th>wheelchair_access</th>\n",
              "      <th>common_outdoor_space</th>\n",
              "    </tr>\n",
              "    <tr>\n",
              "      <th>created</th>\n",
              "      <th></th>\n",
              "      <th></th>\n",
              "      <th></th>\n",
              "      <th></th>\n",
              "      <th></th>\n",
              "      <th></th>\n",
              "      <th></th>\n",
              "      <th></th>\n",
              "      <th></th>\n",
              "      <th></th>\n",
              "      <th></th>\n",
              "      <th></th>\n",
              "      <th></th>\n",
              "      <th></th>\n",
              "      <th></th>\n",
              "      <th></th>\n",
              "      <th></th>\n",
              "      <th></th>\n",
              "      <th></th>\n",
              "      <th></th>\n",
              "      <th></th>\n",
              "      <th></th>\n",
              "      <th></th>\n",
              "      <th></th>\n",
              "      <th></th>\n",
              "      <th></th>\n",
              "      <th></th>\n",
              "      <th></th>\n",
              "      <th></th>\n",
              "      <th></th>\n",
              "      <th></th>\n",
              "      <th></th>\n",
              "      <th></th>\n",
              "    </tr>\n",
              "  </thead>\n",
              "  <tbody>\n",
              "    <tr>\n",
              "      <th>2016-06-24 07:54:24</th>\n",
              "      <td>1.5</td>\n",
              "      <td>3</td>\n",
              "      <td>A Brand New 3 Bedroom 1.5 bath ApartmentEnjoy ...</td>\n",
              "      <td>Metropolitan Avenue</td>\n",
              "      <td>40.7145</td>\n",
              "      <td>-73.9425</td>\n",
              "      <td>3000</td>\n",
              "      <td>792 Metropolitan Avenue</td>\n",
              "      <td>medium</td>\n",
              "      <td>0</td>\n",
              "      <td>0</td>\n",
              "      <td>0</td>\n",
              "      <td>0</td>\n",
              "      <td>0</td>\n",
              "      <td>0</td>\n",
              "      <td>0</td>\n",
              "      <td>0</td>\n",
              "      <td>0</td>\n",
              "      <td>0</td>\n",
              "      <td>0</td>\n",
              "      <td>0</td>\n",
              "      <td>0</td>\n",
              "      <td>0</td>\n",
              "      <td>0</td>\n",
              "      <td>0</td>\n",
              "      <td>0</td>\n",
              "      <td>0</td>\n",
              "      <td>0</td>\n",
              "      <td>0</td>\n",
              "      <td>0</td>\n",
              "      <td>0</td>\n",
              "      <td>0</td>\n",
              "      <td>0</td>\n",
              "    </tr>\n",
              "    <tr>\n",
              "      <th>2016-06-12 12:19:27</th>\n",
              "      <td>1.0</td>\n",
              "      <td>2</td>\n",
              "      <td></td>\n",
              "      <td>Columbus Avenue</td>\n",
              "      <td>40.7947</td>\n",
              "      <td>-73.9667</td>\n",
              "      <td>5465</td>\n",
              "      <td>808 Columbus Avenue</td>\n",
              "      <td>low</td>\n",
              "      <td>1</td>\n",
              "      <td>1</td>\n",
              "      <td>0</td>\n",
              "      <td>1</td>\n",
              "      <td>1</td>\n",
              "      <td>0</td>\n",
              "      <td>0</td>\n",
              "      <td>0</td>\n",
              "      <td>1</td>\n",
              "      <td>0</td>\n",
              "      <td>0</td>\n",
              "      <td>0</td>\n",
              "      <td>0</td>\n",
              "      <td>0</td>\n",
              "      <td>0</td>\n",
              "      <td>0</td>\n",
              "      <td>0</td>\n",
              "      <td>0</td>\n",
              "      <td>0</td>\n",
              "      <td>0</td>\n",
              "      <td>0</td>\n",
              "      <td>0</td>\n",
              "      <td>0</td>\n",
              "      <td>0</td>\n",
              "    </tr>\n",
              "    <tr>\n",
              "      <th>2016-04-17 03:26:41</th>\n",
              "      <td>1.0</td>\n",
              "      <td>1</td>\n",
              "      <td>Top Top West Village location, beautiful Pre-w...</td>\n",
              "      <td>W 13 Street</td>\n",
              "      <td>40.7388</td>\n",
              "      <td>-74.0018</td>\n",
              "      <td>2850</td>\n",
              "      <td>241 W 13 Street</td>\n",
              "      <td>high</td>\n",
              "      <td>0</td>\n",
              "      <td>0</td>\n",
              "      <td>1</td>\n",
              "      <td>0</td>\n",
              "      <td>0</td>\n",
              "      <td>1</td>\n",
              "      <td>0</td>\n",
              "      <td>1</td>\n",
              "      <td>0</td>\n",
              "      <td>0</td>\n",
              "      <td>0</td>\n",
              "      <td>0</td>\n",
              "      <td>0</td>\n",
              "      <td>0</td>\n",
              "      <td>0</td>\n",
              "      <td>0</td>\n",
              "      <td>0</td>\n",
              "      <td>0</td>\n",
              "      <td>0</td>\n",
              "      <td>0</td>\n",
              "      <td>0</td>\n",
              "      <td>0</td>\n",
              "      <td>0</td>\n",
              "      <td>0</td>\n",
              "    </tr>\n",
              "    <tr>\n",
              "      <th>2016-04-18 02:22:02</th>\n",
              "      <td>1.0</td>\n",
              "      <td>1</td>\n",
              "      <td>Building Amenities - Garage - Garden - fitness...</td>\n",
              "      <td>East 49th Street</td>\n",
              "      <td>40.7539</td>\n",
              "      <td>-73.9677</td>\n",
              "      <td>3275</td>\n",
              "      <td>333 East 49th Street</td>\n",
              "      <td>low</td>\n",
              "      <td>0</td>\n",
              "      <td>0</td>\n",
              "      <td>1</td>\n",
              "      <td>0</td>\n",
              "      <td>0</td>\n",
              "      <td>0</td>\n",
              "      <td>1</td>\n",
              "      <td>0</td>\n",
              "      <td>0</td>\n",
              "      <td>0</td>\n",
              "      <td>0</td>\n",
              "      <td>0</td>\n",
              "      <td>0</td>\n",
              "      <td>0</td>\n",
              "      <td>0</td>\n",
              "      <td>0</td>\n",
              "      <td>0</td>\n",
              "      <td>0</td>\n",
              "      <td>0</td>\n",
              "      <td>0</td>\n",
              "      <td>0</td>\n",
              "      <td>0</td>\n",
              "      <td>0</td>\n",
              "      <td>0</td>\n",
              "    </tr>\n",
              "    <tr>\n",
              "      <th>2016-04-28 01:32:41</th>\n",
              "      <td>1.0</td>\n",
              "      <td>4</td>\n",
              "      <td>Beautifully renovated 3 bedroom flex 4 bedroom...</td>\n",
              "      <td>West 143rd Street</td>\n",
              "      <td>40.8241</td>\n",
              "      <td>-73.9493</td>\n",
              "      <td>3350</td>\n",
              "      <td>500 West 143rd Street</td>\n",
              "      <td>low</td>\n",
              "      <td>0</td>\n",
              "      <td>0</td>\n",
              "      <td>0</td>\n",
              "      <td>0</td>\n",
              "      <td>0</td>\n",
              "      <td>0</td>\n",
              "      <td>0</td>\n",
              "      <td>0</td>\n",
              "      <td>0</td>\n",
              "      <td>1</td>\n",
              "      <td>0</td>\n",
              "      <td>0</td>\n",
              "      <td>0</td>\n",
              "      <td>0</td>\n",
              "      <td>0</td>\n",
              "      <td>0</td>\n",
              "      <td>0</td>\n",
              "      <td>0</td>\n",
              "      <td>0</td>\n",
              "      <td>0</td>\n",
              "      <td>0</td>\n",
              "      <td>0</td>\n",
              "      <td>0</td>\n",
              "      <td>0</td>\n",
              "    </tr>\n",
              "  </tbody>\n",
              "</table>\n",
              "</div>"
            ],
            "text/plain": [
              "                     bathrooms  ...  common_outdoor_space\n",
              "created                         ...                      \n",
              "2016-06-24 07:54:24        1.5  ...                     0\n",
              "2016-06-12 12:19:27        1.0  ...                     0\n",
              "2016-04-17 03:26:41        1.0  ...                     0\n",
              "2016-04-18 02:22:02        1.0  ...                     0\n",
              "2016-04-28 01:32:41        1.0  ...                     0\n",
              "\n",
              "[5 rows x 33 columns]"
            ]
          },
          "metadata": {
            "tags": []
          },
          "execution_count": 6
        }
      ]
    },
    {
      "cell_type": "code",
      "metadata": {
        "id": "dkQ0HbqYPOAI",
        "colab_type": "code",
        "colab": {
          "base_uri": "https://localhost:8080/",
          "height": 280
        },
        "outputId": "8dd800e8-cd5b-4462-d7ba-581b0f651369"
      },
      "source": [
        "import matplotlib.pyplot as plt\n",
        "\n",
        "plt.scatter(apartments['latitude'],\n",
        "            apartments['price'], )\n",
        "plt.xlabel('latitude')\n",
        "plt.ylabel('price');"
      ],
      "execution_count": 7,
      "outputs": [
        {
          "output_type": "display_data",
          "data": {
            "image/png": "[encoded data removed]",
            "text/plain": [
              "<Figure size 432x288 with 1 Axes>"
            ]
          },
          "metadata": {
            "tags": [],
            "needs_background": "light"
          }
        }
      ]
    },
    {
      "cell_type": "code",
      "metadata": {
        "id": "VmxxdotuPv_Y",
        "colab_type": "code",
        "colab": {
          "base_uri": "https://localhost:8080/",
          "height": 280
        },
        "outputId": "9f9df56b-a1a5-44fc-f9a0-3d502ba64d78"
      },
      "source": [
        "import matplotlib.pyplot as plt\n",
        "\n",
        "plt.scatter(apartments['longitude'],\n",
        "            apartments['price'], )\n",
        "plt.xlabel('longitude')\n",
        "plt.ylabel('price');"
      ],
      "execution_count": 8,
      "outputs": [
        {
          "output_type": "display_data",
          "data": {
            "image/png": "[encoded data removed]",
            "text/plain": [
              "<Figure size 432x288 with 1 Axes>"
            ]
          },
          "metadata": {
            "tags": [],
            "needs_background": "light"
          }
        }
      ]
    },
    {
      "cell_type": "code",
      "metadata": {
        "id": "2tVGBJc-P25M",
        "colab_type": "code",
        "colab": {
          "base_uri": "https://localhost:8080/",
          "height": 280
        },
        "outputId": "a44f429e-f418-4d23-bda3-6ce3c967992c"
      },
      "source": [
        "import matplotlib.pyplot as plt\n",
        "\n",
        "plt.scatter(apartments['bedrooms'],\n",
        "            apartments['price'], )\n",
        "plt.xlabel('bedrooms')\n",
        "plt.ylabel('price');"
      ],
      "execution_count": 9,
      "outputs": [
        {
          "output_type": "display_data",
          "data": {
            "image/png": "[encoded data removed]",
            "text/plain": [
              "<Figure size 432x288 with 1 Axes>"
            ]
          },
          "metadata": {
            "tags": [],
            "needs_background": "light"
          }
        }
      ]
    },
    {
      "cell_type": "code",
      "metadata": {
        "id": "i7P8SY4sP_MC",
        "colab_type": "code",
        "colab": {
          "base_uri": "https://localhost:8080/",
          "height": 280
        },
        "outputId": "761fe216-1191-444a-b254-61cc570f1cc8"
      },
      "source": [
        "import matplotlib.pyplot as plt\n",
        "\n",
        "plt.scatter(apartments['bathrooms'],\n",
        "            apartments['price'], )\n",
        "plt.xlabel('bathrooms')\n",
        "plt.ylabel('price');"
      ],
      "execution_count": 10,
      "outputs": [
        {
          "output_type": "display_data",
          "data": {
            "image/png": "[encoded data removed]",
            "text/plain": [
              "<Figure size 432x288 with 1 Axes>"
            ]
          },
          "metadata": {
            "tags": [],
            "needs_background": "light"
          }
        }
      ]
    },
    {
      "cell_type": "markdown",
      "metadata": {
        "id": "hSo1ChZAsqU7",
        "colab_type": "text"
      },
      "source": [
        "#### Feature Engineering"
      ]
    },
    {
      "cell_type": "code",
      "metadata": {
        "id": "YmYHZkcYn329",
        "colab_type": "code",
        "colab": {}
      },
      "source": [
        "# reindex by 'created'\n",
        "#apartments = apartments.set_index('created')\n",
        "#apartments.head()\n"
      ],
      "execution_count": 11,
      "outputs": []
    },
    {
      "cell_type": "code",
      "metadata": {
        "id": "mc4IE59jsuTH",
        "colab_type": "code",
        "colab": {
          "base_uri": "https://localhost:8080/",
          "height": 243
        },
        "outputId": "a335fcf4-a2e8-4e6d-8554-0f88370acd46"
      },
      "source": [
        "# concatenating the columns \n",
        "apartments['location'] = apartments['latitude'] + apartments['longitude']\n",
        "print(apartments['location'])"
      ],
      "execution_count": 12,
      "outputs": [
        {
          "output_type": "stream",
          "text": [
            "created\n",
            "2016-06-24 07:54:24   -33.2280\n",
            "2016-06-12 12:19:27   -33.1720\n",
            "2016-04-17 03:26:41   -33.2630\n",
            "2016-04-18 02:22:02   -33.2138\n",
            "2016-04-28 01:32:41   -33.1252\n",
            "                        ...   \n",
            "2016-06-02 05:41:05   -33.2364\n",
            "2016-04-04 18:22:34   -33.3061\n",
            "2016-04-16 02:13:40   -33.2299\n",
            "2016-04-08 02:13:33   -33.3035\n",
            "2016-04-12 02:48:07   -33.0473\n",
            "Name: location, Length: 47260, dtype: float64\n"
          ],
          "name": "stdout"
        }
      ]
    },
    {
      "cell_type": "code",
      "metadata": {
        "id": "NaNJvKNJujGL",
        "colab_type": "code",
        "colab": {
          "base_uri": "https://localhost:8080/",
          "height": 243
        },
        "outputId": "758d63d3-1088-4207-9d18-6fd6bba9f280"
      },
      "source": [
        "# concatenating the columns \n",
        "apartments['total_rooms'] = apartments['bedrooms'] + apartments['bathrooms']\n",
        "print(apartments['total_rooms'])"
      ],
      "execution_count": 13,
      "outputs": [
        {
          "output_type": "stream",
          "text": [
            "created\n",
            "2016-06-24 07:54:24    4.5\n",
            "2016-06-12 12:19:27    3.0\n",
            "2016-04-17 03:26:41    2.0\n",
            "2016-04-18 02:22:02    2.0\n",
            "2016-04-28 01:32:41    5.0\n",
            "                      ... \n",
            "2016-06-02 05:41:05    3.0\n",
            "2016-04-04 18:22:34    2.0\n",
            "2016-04-16 02:13:40    2.0\n",
            "2016-04-08 02:13:33    1.0\n",
            "2016-04-12 02:48:07    3.0\n",
            "Name: total_rooms, Length: 47260, dtype: float64\n"
          ],
          "name": "stdout"
        }
      ]
    },
    {
      "cell_type": "code",
      "metadata": {
        "id": "-gk3atUJwmFs",
        "colab_type": "code",
        "colab": {
          "base_uri": "https://localhost:8080/",
          "height": 547
        },
        "outputId": "a8752bff-0565-4a28-dfac-98832041d8bc"
      },
      "source": [
        "apartments.head()"
      ],
      "execution_count": 14,
      "outputs": [
        {
          "output_type": "execute_result",
          "data": {
            "text/html": [
              "<div>\n",
              "<style scoped>\n",
              "    .dataframe tbody tr th:only-of-type {\n",
              "        vertical-align: middle;\n",
              "    }\n",
              "\n",
              "    .dataframe tbody tr th {\n",
              "        vertical-align: top;\n",
              "    }\n",
              "\n",
              "    .dataframe thead th {\n",
              "        text-align: right;\n",
              "    }\n",
              "</style>\n",
              "<table border=\"1\" class=\"dataframe\">\n",
              "  <thead>\n",
              "    <tr style=\"text-align: right;\">\n",
              "      <th></th>\n",
              "      <th>bathrooms</th>\n",
              "      <th>bedrooms</th>\n",
              "      <th>description</th>\n",
              "      <th>display_address</th>\n",
              "      <th>latitude</th>\n",
              "      <th>longitude</th>\n",
              "      <th>price</th>\n",
              "      <th>street_address</th>\n",
              "      <th>interest_level</th>\n",
              "      <th>elevator</th>\n",
              "      <th>cats_allowed</th>\n",
              "      <th>hardwood_floors</th>\n",
              "      <th>dogs_allowed</th>\n",
              "      <th>doorman</th>\n",
              "      <th>dishwasher</th>\n",
              "      <th>no_fee</th>\n",
              "      <th>laundry_in_building</th>\n",
              "      <th>fitness_center</th>\n",
              "      <th>pre-war</th>\n",
              "      <th>laundry_in_unit</th>\n",
              "      <th>roof_deck</th>\n",
              "      <th>outdoor_space</th>\n",
              "      <th>dining_room</th>\n",
              "      <th>high_speed_internet</th>\n",
              "      <th>balcony</th>\n",
              "      <th>swimming_pool</th>\n",
              "      <th>new_construction</th>\n",
              "      <th>terrace</th>\n",
              "      <th>exclusive</th>\n",
              "      <th>loft</th>\n",
              "      <th>garden_patio</th>\n",
              "      <th>wheelchair_access</th>\n",
              "      <th>common_outdoor_space</th>\n",
              "      <th>location</th>\n",
              "      <th>total_rooms</th>\n",
              "    </tr>\n",
              "    <tr>\n",
              "      <th>created</th>\n",
              "      <th></th>\n",
              "      <th></th>\n",
              "      <th></th>\n",
              "      <th></th>\n",
              "      <th></th>\n",
              "      <th></th>\n",
              "      <th></th>\n",
              "      <th></th>\n",
              "      <th></th>\n",
              "      <th></th>\n",
              "      <th></th>\n",
              "      <th></th>\n",
              "      <th></th>\n",
              "      <th></th>\n",
              "      <th></th>\n",
              "      <th></th>\n",
              "      <th></th>\n",
              "      <th></th>\n",
              "      <th></th>\n",
              "      <th></th>\n",
              "      <th></th>\n",
              "      <th></th>\n",
              "      <th></th>\n",
              "      <th></th>\n",
              "      <th></th>\n",
              "      <th></th>\n",
              "      <th></th>\n",
              "      <th></th>\n",
              "      <th></th>\n",
              "      <th></th>\n",
              "      <th></th>\n",
              "      <th></th>\n",
              "      <th></th>\n",
              "      <th></th>\n",
              "      <th></th>\n",
              "    </tr>\n",
              "  </thead>\n",
              "  <tbody>\n",
              "    <tr>\n",
              "      <th>2016-06-24 07:54:24</th>\n",
              "      <td>1.5</td>\n",
              "      <td>3</td>\n",
              "      <td>A Brand New 3 Bedroom 1.5 bath ApartmentEnjoy ...</td>\n",
              "      <td>Metropolitan Avenue</td>\n",
              "      <td>40.7145</td>\n",
              "      <td>-73.9425</td>\n",
              "      <td>3000</td>\n",
              "      <td>792 Metropolitan Avenue</td>\n",
              "      <td>medium</td>\n",
              "      <td>0</td>\n",
              "      <td>0</td>\n",
              "      <td>0</td>\n",
              "      <td>0</td>\n",
              "      <td>0</td>\n",
              "      <td>0</td>\n",
              "      <td>0</td>\n",
              "      <td>0</td>\n",
              "      <td>0</td>\n",
              "      <td>0</td>\n",
              "      <td>0</td>\n",
              "      <td>0</td>\n",
              "      <td>0</td>\n",
              "      <td>0</td>\n",
              "      <td>0</td>\n",
              "      <td>0</td>\n",
              "      <td>0</td>\n",
              "      <td>0</td>\n",
              "      <td>0</td>\n",
              "      <td>0</td>\n",
              "      <td>0</td>\n",
              "      <td>0</td>\n",
              "      <td>0</td>\n",
              "      <td>0</td>\n",
              "      <td>-33.2280</td>\n",
              "      <td>4.5</td>\n",
              "    </tr>\n",
              "    <tr>\n",
              "      <th>2016-06-12 12:19:27</th>\n",
              "      <td>1.0</td>\n",
              "      <td>2</td>\n",
              "      <td></td>\n",
              "      <td>Columbus Avenue</td>\n",
              "      <td>40.7947</td>\n",
              "      <td>-73.9667</td>\n",
              "      <td>5465</td>\n",
              "      <td>808 Columbus Avenue</td>\n",
              "      <td>low</td>\n",
              "      <td>1</td>\n",
              "      <td>1</td>\n",
              "      <td>0</td>\n",
              "      <td>1</td>\n",
              "      <td>1</td>\n",
              "      <td>0</td>\n",
              "      <td>0</td>\n",
              "      <td>0</td>\n",
              "      <td>1</td>\n",
              "      <td>0</td>\n",
              "      <td>0</td>\n",
              "      <td>0</td>\n",
              "      <td>0</td>\n",
              "      <td>0</td>\n",
              "      <td>0</td>\n",
              "      <td>0</td>\n",
              "      <td>0</td>\n",
              "      <td>0</td>\n",
              "      <td>0</td>\n",
              "      <td>0</td>\n",
              "      <td>0</td>\n",
              "      <td>0</td>\n",
              "      <td>0</td>\n",
              "      <td>0</td>\n",
              "      <td>-33.1720</td>\n",
              "      <td>3.0</td>\n",
              "    </tr>\n",
              "    <tr>\n",
              "      <th>2016-04-17 03:26:41</th>\n",
              "      <td>1.0</td>\n",
              "      <td>1</td>\n",
              "      <td>Top Top West Village location, beautiful Pre-w...</td>\n",
              "      <td>W 13 Street</td>\n",
              "      <td>40.7388</td>\n",
              "      <td>-74.0018</td>\n",
              "      <td>2850</td>\n",
              "      <td>241 W 13 Street</td>\n",
              "      <td>high</td>\n",
              "      <td>0</td>\n",
              "      <td>0</td>\n",
              "      <td>1</td>\n",
              "      <td>0</td>\n",
              "      <td>0</td>\n",
              "      <td>1</td>\n",
              "      <td>0</td>\n",
              "      <td>1</td>\n",
              "      <td>0</td>\n",
              "      <td>0</td>\n",
              "      <td>0</td>\n",
              "      <td>0</td>\n",
              "      <td>0</td>\n",
              "      <td>0</td>\n",
              "      <td>0</td>\n",
              "      <td>0</td>\n",
              "      <td>0</td>\n",
              "      <td>0</td>\n",
              "      <td>0</td>\n",
              "      <td>0</td>\n",
              "      <td>0</td>\n",
              "      <td>0</td>\n",
              "      <td>0</td>\n",
              "      <td>0</td>\n",
              "      <td>-33.2630</td>\n",
              "      <td>2.0</td>\n",
              "    </tr>\n",
              "    <tr>\n",
              "      <th>2016-04-18 02:22:02</th>\n",
              "      <td>1.0</td>\n",
              "      <td>1</td>\n",
              "      <td>Building Amenities - Garage - Garden - fitness...</td>\n",
              "      <td>East 49th Street</td>\n",
              "      <td>40.7539</td>\n",
              "      <td>-73.9677</td>\n",
              "      <td>3275</td>\n",
              "      <td>333 East 49th Street</td>\n",
              "      <td>low</td>\n",
              "      <td>0</td>\n",
              "      <td>0</td>\n",
              "      <td>1</td>\n",
              "      <td>0</td>\n",
              "      <td>0</td>\n",
              "      <td>0</td>\n",
              "      <td>1</td>\n",
              "      <td>0</td>\n",
              "      <td>0</td>\n",
              "      <td>0</td>\n",
              "      <td>0</td>\n",
              "      <td>0</td>\n",
              "      <td>0</td>\n",
              "      <td>0</td>\n",
              "      <td>0</td>\n",
              "      <td>0</td>\n",
              "      <td>0</td>\n",
              "      <td>0</td>\n",
              "      <td>0</td>\n",
              "      <td>0</td>\n",
              "      <td>0</td>\n",
              "      <td>0</td>\n",
              "      <td>0</td>\n",
              "      <td>0</td>\n",
              "      <td>-33.2138</td>\n",
              "      <td>2.0</td>\n",
              "    </tr>\n",
              "    <tr>\n",
              "      <th>2016-04-28 01:32:41</th>\n",
              "      <td>1.0</td>\n",
              "      <td>4</td>\n",
              "      <td>Beautifully renovated 3 bedroom flex 4 bedroom...</td>\n",
              "      <td>West 143rd Street</td>\n",
              "      <td>40.8241</td>\n",
              "      <td>-73.9493</td>\n",
              "      <td>3350</td>\n",
              "      <td>500 West 143rd Street</td>\n",
              "      <td>low</td>\n",
              "      <td>0</td>\n",
              "      <td>0</td>\n",
              "      <td>0</td>\n",
              "      <td>0</td>\n",
              "      <td>0</td>\n",
              "      <td>0</td>\n",
              "      <td>0</td>\n",
              "      <td>0</td>\n",
              "      <td>0</td>\n",
              "      <td>1</td>\n",
              "      <td>0</td>\n",
              "      <td>0</td>\n",
              "      <td>0</td>\n",
              "      <td>0</td>\n",
              "      <td>0</td>\n",
              "      <td>0</td>\n",
              "      <td>0</td>\n",
              "      <td>0</td>\n",
              "      <td>0</td>\n",
              "      <td>0</td>\n",
              "      <td>0</td>\n",
              "      <td>0</td>\n",
              "      <td>0</td>\n",
              "      <td>0</td>\n",
              "      <td>-33.1252</td>\n",
              "      <td>5.0</td>\n",
              "    </tr>\n",
              "  </tbody>\n",
              "</table>\n",
              "</div>"
            ],
            "text/plain": [
              "                     bathrooms  bedrooms  ... location total_rooms\n",
              "created                                   ...                     \n",
              "2016-06-24 07:54:24        1.5         3  ... -33.2280         4.5\n",
              "2016-06-12 12:19:27        1.0         2  ... -33.1720         3.0\n",
              "2016-04-17 03:26:41        1.0         1  ... -33.2630         2.0\n",
              "2016-04-18 02:22:02        1.0         1  ... -33.2138         2.0\n",
              "2016-04-28 01:32:41        1.0         4  ... -33.1252         5.0\n",
              "\n",
              "[5 rows x 35 columns]"
            ]
          },
          "metadata": {
            "tags": []
          },
          "execution_count": 14
        }
      ]
    },
    {
      "cell_type": "markdown",
      "metadata": {
        "id": "8Ce3L3LBMC9X",
        "colab_type": "text"
      },
      "source": [
        "#### Test/Validation Split"
      ]
    },
    {
      "cell_type": "code",
      "metadata": {
        "id": "AhzOWZzlTLah",
        "colab_type": "code",
        "colab": {
          "base_uri": "https://localhost:8080/",
          "height": 52
        },
        "outputId": "afd2498d-858b-4b91-d734-78df30775afc"
      },
      "source": [
        "# create the 2D features matrix\n",
        "X = apartments[['location','total_rooms']]\n",
        "\n",
        "# create the target array\n",
        "y = apartments['price']\n",
        "\n",
        "print(X.shape)\n",
        "print(y.shape)\n"
      ],
      "execution_count": 15,
      "outputs": [
        {
          "output_type": "stream",
          "text": [
            "(47260, 2)\n",
            "(47260,)\n"
          ],
          "name": "stdout"
        }
      ]
    },
    {
      "cell_type": "code",
      "metadata": {
        "id": "9GecFqBIliB3",
        "colab_type": "code",
        "colab": {}
      },
      "source": [
        "#TrainStart = '2016-04-01 00:00:00'\t\n",
        "#TrainEnd = '2016-05-31 23:59:59'\n",
        "#TestStart = '2016-06-01 00:00:00'\n",
        "#TestEnd = '2016-06-30 23:59:59'"
      ],
      "execution_count": 16,
      "outputs": []
    },
    {
      "cell_type": "code",
      "metadata": {
        "id": "mbEXSQsMQajg",
        "colab_type": "code",
        "colab": {}
      },
      "source": [
        "# split dataset into Training and Validation sets\n",
        "# time series split\n",
        "cutoff = '2016-05-31' # 23:59:59\n",
        "mask = X.index < '2016-05-31' # 23:59:59\n",
        "X_train, y_train = X.loc[mask], y.loc[mask]\n",
        "X_val, y_val = X.loc[~mask], y.loc[~mask]\n"
      ],
      "execution_count": 17,
      "outputs": []
    },
    {
      "cell_type": "code",
      "metadata": {
        "id": "jMDhlTmjlGh2",
        "colab_type": "code",
        "colab": {
          "base_uri": "https://localhost:8080/",
          "height": 35
        },
        "outputId": "182081df-1e50-4bdf-fc17-9cd131884ba0"
      },
      "source": [
        "print(mask)"
      ],
      "execution_count": 18,
      "outputs": [
        {
          "output_type": "stream",
          "text": [
            "[False False  True ...  True  True  True]\n"
          ],
          "name": "stdout"
        }
      ]
    },
    {
      "cell_type": "code",
      "metadata": {
        "id": "Nl8cZ7DXmmI_",
        "colab_type": "code",
        "colab": {
          "base_uri": "https://localhost:8080/",
          "height": 503
        },
        "outputId": "fc45034f-38f6-46db-c176-b5962276f03e"
      },
      "source": [
        "print(X_train)\n",
        "print(y_train)\n"
      ],
      "execution_count": 19,
      "outputs": [
        {
          "output_type": "stream",
          "text": [
            "                     location  total_rooms\n",
            "created                                   \n",
            "2016-04-17 03:26:41  -33.2630          2.0\n",
            "2016-04-18 02:22:02  -33.2138          2.0\n",
            "2016-04-28 01:32:41  -33.1252          5.0\n",
            "2016-04-19 04:24:47  -33.2599          6.0\n",
            "2016-04-27 03:19:56  -33.1648          3.0\n",
            "...                       ...          ...\n",
            "2016-04-22 15:44:11  -33.2573          2.0\n",
            "2016-04-04 18:22:34  -33.3061          2.0\n",
            "2016-04-16 02:13:40  -33.2299          2.0\n",
            "2016-04-08 02:13:33  -33.3035          1.0\n",
            "2016-04-12 02:48:07  -33.0473          3.0\n",
            "\n",
            "[30801 rows x 2 columns]\n",
            "created\n",
            "2016-04-17 03:26:41    2850\n",
            "2016-04-18 02:22:02    3275\n",
            "2016-04-28 01:32:41    3350\n",
            "2016-04-19 04:24:47    7995\n",
            "2016-04-27 03:19:56    3600\n",
            "                       ... \n",
            "2016-04-22 15:44:11    4500\n",
            "2016-04-04 18:22:34    3950\n",
            "2016-04-16 02:13:40    2595\n",
            "2016-04-08 02:13:33    3350\n",
            "2016-04-12 02:48:07    2200\n",
            "Name: price, Length: 30801, dtype: int64\n"
          ],
          "name": "stdout"
        }
      ]
    },
    {
      "cell_type": "markdown",
      "metadata": {
        "id": "TaPapxCcUM_I",
        "colab_type": "text"
      },
      "source": [
        "#### Establish Baseline"
      ]
    },
    {
      "cell_type": "code",
      "metadata": {
        "id": "oGoSo2akL9r0",
        "colab_type": "code",
        "colab": {
          "base_uri": "https://localhost:8080/",
          "height": 35
        },
        "outputId": "76e90768-ad23-4a20-f03f-ee26c12f54c7"
      },
      "source": [
        "# baseline \n",
        "y_train.mean()\n"
      ],
      "execution_count": 20,
      "outputs": [
        {
          "output_type": "execute_result",
          "data": {
            "text/plain": [
              "3573.3789162689523"
            ]
          },
          "metadata": {
            "tags": []
          },
          "execution_count": 20
        }
      ]
    },
    {
      "cell_type": "code",
      "metadata": {
        "id": "Jzi8Jy1lW2pp",
        "colab_type": "code",
        "colab": {
          "base_uri": "https://localhost:8080/",
          "height": 280
        },
        "outputId": "3b42a441-a299-4297-db5d-1dbd95d4c27b"
      },
      "source": [
        "# map baseline model\n",
        "# define initial/overlaying  parameters\n",
        "col = ['location']\n",
        "\n",
        "# get the mean value for the length of dataset \n",
        "y_pred = [y_train.mean()]*len(X_train) \n",
        "\n",
        "# create raw data plot\n",
        "plt.scatter(X_train[col], y_train)\n",
        "\n",
        "# create baseline plot\n",
        "plt.plot(X_train[col], \n",
        "         y_pred, \n",
        "         color='red', \n",
        "         label='Baseline Model')\n",
        "            # define model as baseline for linear regression as on \n",
        "            # training data\n",
        "            \n",
        "# define feature/properties parameters of plot(s)\n",
        "plt.xlabel('Geographic location and Total Rooms')\n",
        "plt.ylabel('Price')\n",
        "\n",
        "# create legend and show plot(s)\n",
        "plt.legend()\n",
        "plt.show()\n"
      ],
      "execution_count": 21,
      "outputs": [
        {
          "output_type": "display_data",
          "data": {
            "image/png": "[encoded data removed]",
            "text/plain": [
              "<Figure size 432x288 with 1 Axes>"
            ]
          },
          "metadata": {
            "tags": [],
            "needs_background": "light"
          }
        }
      ]
    },
    {
      "cell_type": "code",
      "metadata": {
        "id": "jGLl1DVEWo2f",
        "colab_type": "code",
        "colab": {
          "base_uri": "https://localhost:8080/",
          "height": 35
        },
        "outputId": "fe7e4907-15ce-4f13-8255-ebfe76f0db31"
      },
      "source": [
        "from sklearn.metrics import mean_absolute_error\n",
        "\n",
        "print('Baseline MAE: ', mean_absolute_error(y_train, y_pred))\n"
      ],
      "execution_count": 22,
      "outputs": [
        {
          "output_type": "stream",
          "text": [
            "Baseline MAE:  1202.4941171064809\n"
          ],
          "name": "stdout"
        }
      ]
    },
    {
      "cell_type": "markdown",
      "metadata": {
        "id": "aqlWRWx5d5Nr",
        "colab_type": "text"
      },
      "source": [
        "#### Build Model"
      ]
    },
    {
      "cell_type": "code",
      "metadata": {
        "id": "g0Z6wA3wd8uK",
        "colab_type": "code",
        "colab": {}
      },
      "source": [
        "from sklearn.linear_model import LinearRegression\n",
        "\n",
        "model = LinearRegression()            # instantiate model\n",
        "model.fit(X_train[col], y_train)      # fit model to training data\n",
        "y_pred = model.predict(X_train[col]) # make predictions\n"
      ],
      "execution_count": 26,
      "outputs": []
    },
    {
      "cell_type": "code",
      "metadata": {
        "id": "RM04nNgQ09YS",
        "colab_type": "code",
        "colab": {
          "base_uri": "https://localhost:8080/",
          "height": 52
        },
        "outputId": "31337d13-fd54-4a99-eda6-d4ed36300c66"
      },
      "source": [
        "# Slope (also called the model coefficient)\n",
        "print(model.coef_)\n",
        "\n",
        "# Intercept\n",
        "print(model.intercept_)\n",
        "\n",
        "# Print in equation form\n",
        "#print(f'\\nprice = ({model.coef_[0]} * location) + ({model.coef_[1]} * total rooms) + ({model.intercept_})')\n"
      ],
      "execution_count": 28,
      "outputs": [
        {
          "output_type": "stream",
          "text": [
            "[-5050.5888166]\n",
            "-164218.3142487573\n"
          ],
          "name": "stdout"
        }
      ]
    },
    {
      "cell_type": "code",
      "metadata": {
        "id": "qlh3Limae50K",
        "colab_type": "code",
        "colab": {
          "base_uri": "https://localhost:8080/",
          "height": 280
        },
        "outputId": "dfb5a0a0-e9ca-45a8-81d0-69a8f32aad59"
      },
      "source": [
        "# map regression model\n",
        "# define initial/overlaying  parameters\n",
        "col = ['location']\n",
        "\n",
        "# get the mean value for the length of dataset \n",
        "#y_pred = [y_train.mean()]*len(X_train) \n",
        "\n",
        "# create raw data plot\n",
        "plt.scatter(X_train[col], y_train)\n",
        "\n",
        "# create baseline plot\n",
        "plt.plot(X_train[col], \n",
        "         y_pred, \n",
        "         color='red', \n",
        "         label='Regression Model')\n",
        "            # define model as Regression Model for linear regression as on \n",
        "            # training data\n",
        "            \n",
        "# define feature/properties parameters of plot(s)\n",
        "plt.xlabel('Geographic location and Total Rooms')\n",
        "plt.ylabel('Price')\n",
        "\n",
        "# create legend and show plot(s)\n",
        "plt.legend()\n",
        "plt.show()"
      ],
      "execution_count": 29,
      "outputs": [
        {
          "output_type": "display_data",
          "data": {
            "image/png": "[encoded data removed]",
            "text/plain": [
              "<Figure size 432x288 with 1 Axes>"
            ]
          },
          "metadata": {
            "tags": [],
            "needs_background": "light"
          }
        }
      ]
    },
    {
      "cell_type": "markdown",
      "metadata": {
        "id": "vCCp93iJyUtv",
        "colab_type": "text"
      },
      "source": [
        "#### Check Metrics\n"
      ]
    },
    {
      "cell_type": "code",
      "metadata": {
        "id": "40-y7xM3ydgQ",
        "colab_type": "code",
        "colab": {}
      },
      "source": [
        "# Mean Absolute Error (MAE)\n",
        "from sklearn.metrics import mean_absolute_error\n",
        "\n",
        "print('Training MAE: ', mean_absolute_error(y_train, model.predict(X_train[[col]])))\n",
        "print('Validation MAE: ', mean_absolute_error(y_val, model.predict(X_val[[col]])))\n",
        "\n",
        "###This error occurs when there are spaces in the column names but I can't find any###\n",
        "###I cannot get any of the metrics to work###"
      ],
      "execution_count": null,
      "outputs": []
    },
    {
      "cell_type": "code",
      "metadata": {
        "id": "OYtZUWB-ymfa",
        "colab_type": "code",
        "colab": {}
      },
      "source": [
        "# Root Mean Squared Error (RMSE)\n",
        "from sklearn.metrics import mean_squared_error\n",
        "\n",
        "print('Training RMSE:', mean_squared_error(y_train, model.predict(X_train[[col]]), squared=False))\n",
        "print('Validation RMSE:', mean_squared_error(y_val, model.predict(X_val[[col]]), squared=False))\n"
      ],
      "execution_count": null,
      "outputs": []
    },
    {
      "cell_type": "code",
      "metadata": {
        "id": "3m-m4ZFoyt3b",
        "colab_type": "code",
        "colab": {}
      },
      "source": [
        "# R^2\n",
        "from sklearn.metrics import r2_score\n",
        "\n",
        "print('Training R2:', model.score(X_train[[col]], y_train))\n",
        "print('Validation R2:', model.score(X_val[[col]], y_val))\n"
      ],
      "execution_count": null,
      "outputs": []
    },
    {
      "cell_type": "markdown",
      "metadata": {
        "id": "frQ1zUCLzKe3",
        "colab_type": "text"
      },
      "source": [
        "#### Multiple Linear Regression\n"
      ]
    },
    {
      "cell_type": "code",
      "metadata": {
        "id": "q0tDnVwQzOVq",
        "colab_type": "code",
        "colab": {
          "base_uri": "https://localhost:8080/",
          "height": 35
        },
        "outputId": "bbbc95d1-892b-4433-a6cc-106d1545cf1b"
      },
      "source": [
        "# pass data through your model a second time to account for noise of multiple variables\n",
        "model2 = LinearRegression()         # instantiate\n",
        "model2.fit(X_train, y_train)         # fit model to training data\n"
      ],
      "execution_count": 38,
      "outputs": [
        {
          "output_type": "execute_result",
          "data": {
            "text/plain": [
              "LinearRegression(copy_X=True, fit_intercept=True, n_jobs=None, normalize=False)"
            ]
          },
          "metadata": {
            "tags": []
          },
          "execution_count": 38
        }
      ]
    },
    {
      "cell_type": "code",
      "metadata": {
        "id": "GW-ibEpd0Fnc",
        "colab_type": "code",
        "colab": {}
      },
      "source": [
        "# check metrics\n",
        "# Mean Absolute Error (MAE)\n",
        "print('Training MAE:', mean_absolute_error(y_train, model.predict(X_train[[col]])))\n",
        "print('Validation MAE:', mean_absolute_error(y_val, model.predict(X_val[[col]])))\n",
        "\n",
        "print()\n",
        "\n",
        "# Root Mean Squared Error (RMSE)\n",
        "print('Training RMSE:', mean_squared_error(y_train, model.predict(X_train[[col]]), squared=False))\n",
        "print('Validation RMSE:', mean_squared_error(y_val, model.predict(X_val[[col]]), squared=False))\n",
        "\n",
        "print()\n",
        "\n",
        "# R^2 score\n",
        "print('Training R2:', model2.score(X_train, y_train))\n",
        "print('Training R2:', model2.score(X_val, y_val))\n"
      ],
      "execution_count": null,
      "outputs": []
    },
    {
      "cell_type": "markdown",
      "metadata": {
        "id": "BgxzONJQmApI",
        "colab_type": "text"
      },
      "source": [
        "### Stretch 1\n",
        "\n",
        "#### Simple Linear Regression\n",
        "\n",
        "The ***RSME (RSE)*** it is the average amount that the response\n",
        "will deviate from the true regression line.\n",
        "\n",
        "The RSE is considered a measure of the lack of fit of the model (3.5) to\n",
        "the data. If the predictions obtained using the model are very close to the\n",
        "true outcome values.  If the values are small then the model fits the data very well.\n",
        "\n",
        "On\n",
        "the other hand, if ˆyi is very far from yi for one or more observations, then\n",
        "the RSE may be quite large, indicating that the model doesn’t fit the data\n",
        "well.\n",
        "\n",
        "The ***R^2*** statistic provides an alternative\n",
        "measure of fit. It takes the form of a proportion, the proportion of variance\n",
        "explained, and so it always takes on a value between 0 and 1, and is\n",
        "independent of the scale of Y .\n",
        "\n",
        "R^2 measures the proportion\n",
        "of variability in Y that can be explained using X. An R^2 statistic that is\n",
        "close to 1 indicates that a large proportion of the variability in the response\n",
        "has been explained by the regression. \n",
        "\n",
        "A number near 0 indicates that the\n",
        "regression did not explain much of the variability in the response; this might\n",
        "occur because the linear model is wrong, or the inherent error σ2 is high,\n",
        "or both.\n",
        "\n",
        "#### Multiple Linear Regression\n",
        "\n",
        "Instead of fitting a separate simple linear regression model for each predictor,\n",
        "a better approach is to extend the simple linear regression model\n",
        "(3.5) so that it can directly accommodate multiple predictors. We can do\n",
        "this by giving each predictor a separate slope coefficient in a single model.\n",
        "In general, suppose that we have p distinct predictors. Then the multiple\n",
        "linear regression model takes the form\n",
        "\n",
        "Y = β0 + β1X1 + β2X2 + · · · + βpXp + \u0003,\n",
        "\n",
        "where Xj represents the jth predictor and βj quantifies the association\n",
        "between that variable and the response. We interpret βj as the average\n",
        "effect on Y of a one unit increase in Xj , holding all other predictors fixed.\n",
        "\n",
        "As was the case in the simple linear regression setting, the regression coefficients\n",
        "β0, β1, . . . , βp in are unknown, and must be estimated.\n",
        "The parameters are estimated using the same least squares approach that\n",
        "we saw in the context of simple linear regression. We choose β0, β1, . . . , βp\n",
        "to minimize the sum of squared residuals.\n",
        "\n",
        "When we perform multiple linear regression, we usually are interested in\n",
        "answering a few important questions.\n",
        "1. Is at least one of the predictors X1,X2, . . . , Xp useful in predicting\n",
        "the response?\n",
        "2. Do all the predictors help to explain Y , or is only a subset of the\n",
        "predictors useful?\n",
        "3. How well does the model fit the data?\n",
        "4. Given a set of predictor values, what response value should we predict,\n",
        "and how accurate is our prediction?\n",
        "\n"
      ]
    },
    {
      "cell_type": "markdown",
      "metadata": {
        "id": "2lZ5xzmUsQp3",
        "colab_type": "text"
      },
      "source": [
        "### Stretch 2\n",
        "\n",
        "#### Statistics 101: Linear Regression, The Very Basics\n",
        "\n",
        "simple linear regression\n",
        "model mathematically the relationship bewteen two variables\n",
        "good fit-compares relationship of one model with another model\n",
        "\n",
        "begin with a sample\n",
        "\n",
        "scatter plot y variable (sample)\n",
        "\n",
        "with only one variable - mean of y(dependant var/sample var) is best predictor of best-fit line \n",
        "\n",
        "measure each data point distance from mean-line (line of best-fit/observed values) - standard deviation or residuals/errors\n",
        "\n",
        "the residuals/errors always add up to zero\n",
        "\n",
        "square the residuals/errors (makes them all positive, emphasizes all deviations), sum the squared residuals/errors (SSE)\n",
        "\n",
        "sum_of_squares = the goal of simple linear regression is to create a linear model that minimizes (area) the sum of squares of the risiduals/errors(SSE)\n",
        "\n",
        "A regression line with a good-fit will minimize the residuals/errors(SSE) so the SSE will be smaller than the original sum_of_squares.\n"
      ]
    }
  ]
}